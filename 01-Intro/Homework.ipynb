{
 "cells": [
  {
   "cell_type": "markdown",
   "id": "26d9e07c-fa62-4566-bc95-fc7d6e013745",
   "metadata": {},
   "source": [
    "# **Homework:** 01-Introduction\n"
   ]
  },
  {
   "cell_type": "code",
   "execution_count": 2,
   "id": "6ccd1f78-cc1b-41f0-a4dc-b4f813d3a554",
   "metadata": {},
   "outputs": [],
   "source": [
    "#Loading utils libraries\n",
    "import pandas as pd\n",
    "import pickle\n",
    "import seaborn as sns\n",
    "import matplotlib.pyplot as plt"
   ]
  },
  {
   "cell_type": "code",
   "execution_count": 18,
   "id": "3156f059-4d0e-4fe4-bc23-cbbdfbaa75f5",
   "metadata": {},
   "outputs": [],
   "source": [
    "#Loading \n",
    "from sklearn.feature_extraction import DictVectorizer\n",
    "from sklearn.linear_model import LinearRegression\n",
    "from sklearn.linear_model import Lasso\n",
    "from sklearn.linear_model import Ridge\n",
    "\n",
    "from sklearn.metrics import mean_squared_error, root_mean_squared_error"
   ]
  },
  {
   "cell_type": "code",
   "execution_count": 7,
   "id": "c5178955-dc05-47b9-86a5-8dd233572766",
   "metadata": {},
   "outputs": [],
   "source": [
    "jan_yellow_trips= pd.read_parquet(\"https://d37ci6vzurychx.cloudfront.net/trip-data/yellow_tripdata_2023-01.parquet\")"
   ]
  },
  {
   "cell_type": "code",
   "execution_count": 8,
   "id": "88d94de7-82a5-47bd-a45a-de9d05829afe",
   "metadata": {},
   "outputs": [
    {
     "name": "stdout",
     "output_type": "stream",
     "text": [
      "<class 'pandas.core.frame.DataFrame'>\n",
      "RangeIndex: 3066766 entries, 0 to 3066765\n",
      "Data columns (total 19 columns):\n",
      " #   Column                 Dtype         \n",
      "---  ------                 -----         \n",
      " 0   VendorID               int64         \n",
      " 1   tpep_pickup_datetime   datetime64[us]\n",
      " 2   tpep_dropoff_datetime  datetime64[us]\n",
      " 3   passenger_count        float64       \n",
      " 4   trip_distance          float64       \n",
      " 5   RatecodeID             float64       \n",
      " 6   store_and_fwd_flag     object        \n",
      " 7   PULocationID           int64         \n",
      " 8   DOLocationID           int64         \n",
      " 9   payment_type           int64         \n",
      " 10  fare_amount            float64       \n",
      " 11  extra                  float64       \n",
      " 12  mta_tax                float64       \n",
      " 13  tip_amount             float64       \n",
      " 14  tolls_amount           float64       \n",
      " 15  improvement_surcharge  float64       \n",
      " 16  total_amount           float64       \n",
      " 17  congestion_surcharge   float64       \n",
      " 18  airport_fee            float64       \n",
      "dtypes: datetime64[us](2), float64(12), int64(4), object(1)\n",
      "memory usage: 444.6+ MB\n"
     ]
    }
   ],
   "source": [
    "jan_yellow_trips.info()"
   ]
  },
  {
   "cell_type": "code",
   "execution_count": 9,
   "id": "13296116-ed54-4a8c-80c0-6ebba561a4c3",
   "metadata": {},
   "outputs": [
    {
     "data": {
      "text/plain": [
       "'Columns of Yellow trip dataset in January: 19'"
      ]
     },
     "execution_count": 9,
     "metadata": {},
     "output_type": "execute_result"
    }
   ],
   "source": [
    "#  Q1. Total columns\n",
    "f\"Columns of Yellow trip dataset in January: {len(jan_yellow_trips.columns)}\""
   ]
  },
  {
   "cell_type": "code",
   "execution_count": 10,
   "id": "8031b8dd-c989-4858-9c83-9334d8de5441",
   "metadata": {},
   "outputs": [],
   "source": [
    "# Compute duration ride column in minutes\n",
    "jan_yellow_trips['duration'] = jan_yellow_trips.tpep_dropoff_datetime - jan_yellow_trips.tpep_pickup_datetime\n",
    "jan_yellow_trips.duration = jan_yellow_trips.duration.apply(lambda td: td.total_seconds() / 60)"
   ]
  },
  {
   "cell_type": "code",
   "execution_count": 11,
   "id": "f7102535-2db6-459f-911b-a9d947657bf8",
   "metadata": {},
   "outputs": [
    {
     "data": {
      "text/plain": [
       "'std of duration time in Yellow taxis trips in January 42.594351241920904'"
      ]
     },
     "execution_count": 11,
     "metadata": {},
     "output_type": "execute_result"
    }
   ],
   "source": [
    "# Q2.standard deviation of the trips duration in January\n",
    "f\"std of duration time in Yellow taxis trips in January {jan_yellow_trips['duration'].std()}\""
   ]
  },
  {
   "cell_type": "code",
   "execution_count": 12,
   "id": "1ecca2fd-fcc5-4842-8025-d8a5a3ebf95b",
   "metadata": {},
   "outputs": [
    {
     "data": {
      "image/png": "[encoded data removed]",
      "text/plain": [
       "<Figure size 640x480 with 1 Axes>"
      ]
     },
     "metadata": {},
     "output_type": "display_data"
    }
   ],
   "source": [
    "# Graph distribution for time of trips before remove outliers\n",
    "total_trips_raw = len(jan_yellow_trips.index) \n",
    "ax = jan_yellow_trips.boxplot(column=['duration'])"
   ]
  },
  {
   "cell_type": "code",
   "execution_count": 13,
   "id": "4b0a4c15-29d0-41be-8a88-3bc08118b31d",
   "metadata": {},
   "outputs": [],
   "source": [
    "# Graph distribution for time of trips after remove outliers\n",
    "jan_yellow_trips = jan_yellow_trips[(jan_yellow_trips.duration >= 1) & (jan_yellow_trips.duration <= 60)]\n",
    "total_trips_new = len(jan_yellow_trips.index)\n",
    "ax = jan_yellow_trips.boxplot(column=['duration'])"
   ]
  },
  {
   "cell_type": "code",
   "execution_count": 14,
   "id": "21ca36ea-52dd-48be-86ae-5142e6116067",
   "metadata": {},
   "outputs": [
    {
     "data": {
      "text/plain": [
       "'Percentage of records left after you dropped the outliers 98.1220282212598'"
      ]
     },
     "execution_count": 14,
     "metadata": {},
     "output_type": "execute_result"
    }
   ],
   "source": [
    "# Q3. Dropping outliers\n",
    "f\"Percentage of records left after you dropped the outliers {total_trips_new/total_trips_raw*100}\""
   ]
  },
  {
   "cell_type": "code",
   "execution_count": 15,
   "id": "9b5cd39a-a0a0-45dc-81ed-9188e1a88395",
   "metadata": {},
   "outputs": [],
   "source": [
    "# Distribution of the trip distance\n",
    "categorical = ['PULocationID', 'DOLocationID']\n",
    "\n",
    "jan_yellow_trips[categorical] = jan_yellow_trips[categorical].astype(str)"
   ]
  },
  {
   "cell_type": "code",
   "execution_count": 16,
   "id": "b6b7d5d8-342f-4b0f-87b2-2d71ddb1a8be",
   "metadata": {},
   "outputs": [],
   "source": [
    "train_dicts = jan_yellow_trips[categorical].to_dict(orient='records')"
   ]
  },
  {
   "cell_type": "code",
   "execution_count": 17,
   "id": "68ca0fd3-a988-4161-9ad4-58b720753f69",
   "metadata": {},
   "outputs": [
    {
     "data": {
      "text/plain": [
       "<3009173x515 sparse matrix of type '<class 'numpy.float64'>'\n",
       "\twith 6018346 stored elements in Compressed Sparse Row format>"
      ]
     },
     "execution_count": 17,
     "metadata": {},
     "output_type": "execute_result"
    }
   ],
   "source": [
    "# Q4. Len of train data\n",
    "dv = DictVectorizer()\n",
    "X_train = dv.fit_transform(train_dicts)\n",
    "\n",
    "X_train # columns size"
   ]
  },
  {
   "cell_type": "code",
   "execution_count": 20,
   "id": "96e1f63d-1fc1-4de6-8ac7-0c1d9daa0dcd",
   "metadata": {},
   "outputs": [
    {
     "data": {
      "text/plain": [
       "'RMSE for linear regression 7.649261959465432'"
      ]
     },
     "execution_count": 20,
     "metadata": {},
     "output_type": "execute_result"
    }
   ],
   "source": [
    "# Q5. Training a model\n",
    "target = 'duration'\n",
    "y_train = jan_yellow_trips[target].values\n",
    "\n",
    "lr = LinearRegression()\n",
    "lr.fit(X_train, y_train)\n",
    "\n",
    "y_pred = lr.predict(X_train)\n",
    "\n",
    "f\"RMSE for linear regression {root_mean_squared_error(y_train, y_pred)}\""
   ]
  },
  {
   "cell_type": "code",
   "execution_count": 22,
   "id": "b7023d21-707e-44f3-8a46-2e97a1a2c7d7",
   "metadata": {},
   "outputs": [],
   "source": [
    "# Loading february data for validation\n",
    "feb_yellow_trips= pd.read_parquet(\"https://d37ci6vzurychx.cloudfront.net/trip-data/yellow_tripdata_2023-02.parquet\")\n",
    "\n",
    "# Compute duration ride column in minutes\n",
    "feb_yellow_trips['duration'] = feb_yellow_trips.tpep_dropoff_datetime - feb_yellow_trips.tpep_pickup_datetime\n",
    "feb_yellow_trips.duration = feb_yellow_trips.duration.apply(lambda td: td.total_seconds() / 60)\n",
    "feb_yellow_trips = feb_yellow_trips[(feb_yellow_trips.duration >= 1) & (feb_yellow_trips.duration <= 60)]"
   ]
  },
  {
   "cell_type": "code",
   "execution_count": 26,
   "id": "5fe66321-94f3-4ad1-9f69-b95942146c9e",
   "metadata": {},
   "outputs": [
    {
     "data": {
      "text/plain": [
       "<2855951x515 sparse matrix of type '<class 'numpy.float64'>'\n",
       "\twith 5711894 stored elements in Compressed Sparse Row format>"
      ]
     },
     "execution_count": 26,
     "metadata": {},
     "output_type": "execute_result"
    }
   ],
   "source": [
    "# Q6. Validation preparation\n",
    "categorical = ['PULocationID', 'DOLocationID']\n",
    "feb_yellow_trips[categorical] = feb_yellow_trips[categorical].astype(str)\n",
    "train_dicts = jan_yellow_trips[categorical].to_dict(orient='records')\n",
    "val_dicts_feb = feb_yellow_trips[categorical].to_dict(orient='records')\n",
    "\n",
    "dv = DictVectorizer()\n",
    "\n",
    "X_train = dv.fit_transform(train_dicts)\n",
    "X_val_feb = dv.transform(val_dicts_feb)\n",
    "X_val_feb # Check that the valid data matches the form of the training dictionary. "
   ]
  },
  {
   "cell_type": "code",
   "execution_count": 27,
   "id": "d2a20b50-6540-4282-9069-a2b4bf77fb7b",
   "metadata": {},
   "outputs": [
    {
     "data": {
      "text/plain": [
       "'RMSE for test validation 7.811818882650574'"
      ]
     },
     "execution_count": 27,
     "metadata": {},
     "output_type": "execute_result"
    }
   ],
   "source": [
    "# Q6. RMSE for validation data\n",
    "target = 'duration'\n",
    "y_val_feb = feb_yellow_trips[target].values\n",
    "\n",
    "y_pred_feb = lr.predict(X_val_feb)\n",
    "f\"RMSE for test validation {root_mean_squared_error(y_val_feb, y_pred_feb)}\""
   ]
  }
 ],
 "metadata": {
  "kernelspec": {
   "display_name": "Python 3 (ipykernel)",
   "language": "python",
   "name": "python3"
  },
  "language_info": {
   "codemirror_mode": {
    "name": "ipython",
    "version": 3
   },
   "file_extension": ".py",
   "mimetype": "text/x-python",
   "name": "python",
   "nbconvert_exporter": "python",
   "pygments_lexer": "ipython3",
   "version": "3.12.2"
  }
 },
 "nbformat": 4,
 "nbformat_minor": 5
}
